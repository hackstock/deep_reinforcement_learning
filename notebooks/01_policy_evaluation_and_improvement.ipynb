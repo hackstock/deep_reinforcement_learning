{
 "cells": [
  {
   "cell_type": "code",
   "execution_count": 44,
   "metadata": {},
   "outputs": [],
   "source": [
    "import numpy as np"
   ]
  },
  {
   "cell_type": "code",
   "execution_count": 46,
   "metadata": {},
   "outputs": [],
   "source": [
    "# MDP for bandit_walk_five : \n",
    "# Deterministic environment (100% action success)\n",
    "# 3 non-terminal states, 2 terminal states\n",
    "# The only reward (+1) is at the right-most state\n",
    "# Episodic environment where agent terminates in the \n",
    "# left-most or right-most states T-1-2-3-T\n",
    "# actions left (0), right (1)\n",
    "bandit_walk = {\n",
    "    0: {\n",
    "        0: [(1.0,0,0.0,True)],\n",
    "        1: [(1.0,0,0.0,True)]\n",
    "    },\n",
    "    1: {\n",
    "        0: [(1.0,0,0.0,True)],\n",
    "        1: [(1.0,2,0.0,False)]\n",
    "    },\n",
    "    2: {\n",
    "        0: [(1.0,1,0.0,False)],\n",
    "        1: [(1.0,3,0.0,False)]\n",
    "    },\n",
    "    3: {\n",
    "        0: [(1.0,2,0.0,False)],\n",
    "        1: [(1.0,4,1.0,True)]\n",
    "    },\n",
    "    4: {\n",
    "        0: [(1.0,4,0.0,True)],\n",
    "        1: [(1.0,4,0.0,True)]\n",
    "    }\n",
    "}"
   ]
  },
  {
   "cell_type": "code",
   "execution_count": 47,
   "metadata": {},
   "outputs": [],
   "source": [
    "# MDP for slippery_bandit_walk_five : \n",
    "# Stochastic environment (80% action success, 20% backwards)\n",
    "# 3 non-terminal states, 2 terminal states\n",
    "# The only reward (+1) is at the right-most state\n",
    "# Episodic environment where agent terminates in the \n",
    "# left-most or right-most states T-1-2-3-T\n",
    "# actions left (0), right (1)\n",
    "slippery_bandit_walk = {\n",
    "    0: {\n",
    "        0: [(1.0,0,0.0,True)],\n",
    "        1: [(1.0,0,0.0,True)]\n",
    "    },\n",
    "    1: {\n",
    "        0: [(0.8,0,0.0,True),(0.2,2,0.0,False)],\n",
    "        1: [(0.8,2,0.0,False),(0.2,0,0.0,True)]\n",
    "    },\n",
    "    2: {\n",
    "        0: [(0.8,1,0.0,False),(0.2,3,0.0,False)],\n",
    "        1: [(0.8,3,0.0,False),(0.2,1,0.0,False)]\n",
    "    },\n",
    "    3: {\n",
    "        0: [(0.8,2,0.0,False),(0.2,4,1.0,True)],\n",
    "        1: [(0.8,4,1.0,True),(0.2,2,0.0,False)]\n",
    "    },\n",
    "    4: {\n",
    "        0: [(1.0,4,0.0,True)],\n",
    "        1: [(1.0,4,0.0,True)]\n",
    "    }\n",
    "}"
   ]
  },
  {
   "cell_type": "code",
   "execution_count": 48,
   "metadata": {},
   "outputs": [
    {
     "name": "stdout",
     "output_type": "stream",
     "text": [
      "{0: {0: [(1.0, 0, 0.0, True)], 1: [(1.0, 0, 0.0, True)]}, 1: {0: [(1.0, 0, 0.0, True)], 1: [(1.0, 2, 0.0, False)]}, 2: {0: [(1.0, 1, 0.0, False)], 1: [(1.0, 3, 0.0, False)]}, 3: {0: [(1.0, 2, 0.0, False)], 1: [(1.0, 4, 1.0, True)]}, 4: {0: [(1.0, 4, 0.0, True)], 1: [(1.0, 4, 0.0, True)]}}\n"
     ]
    }
   ],
   "source": [
    "print(bandit_walk)"
   ]
  },
  {
   "cell_type": "code",
   "execution_count": 49,
   "metadata": {},
   "outputs": [
    {
     "name": "stdout",
     "output_type": "stream",
     "text": [
      "{0: {0: [(1.0, 0, 0.0, True)], 1: [(1.0, 0, 0.0, True)]}, 1: {0: [(0.8, 0, 0.0, True), (0.2, 2, 0.0, False)], 1: [(0.8, 2, 0.0, False), (0.2, 0, 0.0, True)]}, 2: {0: [(0.8, 1, 0.0, False), (0.2, 3, 0.0, False)], 1: [(0.8, 3, 0.0, False), (0.2, 1, 0.0, False)]}, 3: {0: [(0.8, 2, 0.0, False), (0.2, 4, 1.0, True)], 1: [(0.8, 4, 1.0, True), (0.2, 2, 0.0, False)]}, 4: {0: [(1.0, 4, 0.0, True)], 1: [(1.0, 4, 0.0, True)]}}\n"
     ]
    }
   ],
   "source": [
    "print(slippery_bandit_walk)"
   ]
  },
  {
   "cell_type": "code",
   "execution_count": 50,
   "metadata": {},
   "outputs": [],
   "source": [
    "def policy_evaluation(pi, P, gamma=1.0, theta=1e-10):\n",
    "    state_space = len(P)\n",
    "    prev_state_values = np.zeros(state_space)\n",
    "    \n",
    "    while True:\n",
    "        current_state_values = np.zeros(state_space)\n",
    "        for state in range(state_space):\n",
    "            for prob, next_state, reward, done in P[state][pi[state]]:\n",
    "                current_state_values[state] += prob * (reward + gamma * prev_state_values[next_state] * (not done))\n",
    "        if np.max(np.abs(prev_state_values - current_state_values)) < theta:\n",
    "            break\n",
    "        prev_state_values = current_state_values.copy()\n",
    "    return current_state_values\n",
    "    "
   ]
  },
  {
   "cell_type": "code",
   "execution_count": 62,
   "metadata": {},
   "outputs": [],
   "source": [
    "policy_always_right = {0:1,1:1,2:1,3:1,4:1}\n",
    "policy_always_left = {0:0,1:0,2:0,3:0,4:0}"
   ]
  },
  {
   "cell_type": "code",
   "execution_count": 63,
   "metadata": {},
   "outputs": [],
   "source": [
    "state_values_always_right = policy_evaluation(policy_always_right, bandit_walk, gamma=0.99)\n",
    "state_values_always_left = policy_evaluation(policy_always_left, bandit_walk, gamma=0.99)"
   ]
  },
  {
   "cell_type": "code",
   "execution_count": 64,
   "metadata": {},
   "outputs": [
    {
     "name": "stdout",
     "output_type": "stream",
     "text": [
      "ALWAYS RIGHT : [0.     0.9801 0.99   1.     0.    ]\n",
      "ALWAYS LEFT : [0. 0. 0. 0. 0.]\n"
     ]
    }
   ],
   "source": [
    "print(f\"ALWAYS RIGHT : {state_values_always_right}\")\n",
    "print(f\"ALWAYS LEFT : {state_values_always_left}\")"
   ]
  },
  {
   "cell_type": "code",
   "execution_count": 65,
   "metadata": {},
   "outputs": [],
   "source": [
    "state_values_always_right = policy_evaluation(policy_always_right, slippery_bandit_walk, gamma=0.99)\n",
    "state_values_always_left = policy_evaluation(policy_always_left, slippery_bandit_walk, gamma=0.99)"
   ]
  },
  {
   "cell_type": "code",
   "execution_count": 66,
   "metadata": {},
   "outputs": [
    {
     "name": "stdout",
     "output_type": "stream",
     "text": [
      "ALWAYS RIGHT : [0.         0.73111101 0.92311996 0.98277775 0.        ]\n",
      "ALWAYS LEFT : [0.         0.01142361 0.057695   0.24569444 0.        ]\n"
     ]
    }
   ],
   "source": [
    "print(f\"ALWAYS RIGHT : {state_values_always_right}\")\n",
    "print(f\"ALWAYS LEFT : {state_values_always_left}\")"
   ]
  },
  {
   "cell_type": "code",
   "execution_count": null,
   "metadata": {},
   "outputs": [],
   "source": []
  }
 ],
 "metadata": {
  "kernelspec": {
   "display_name": "Python 3",
   "language": "python",
   "name": "python3"
  },
  "language_info": {
   "codemirror_mode": {
    "name": "ipython",
    "version": 3
   },
   "file_extension": ".py",
   "mimetype": "text/x-python",
   "name": "python",
   "nbconvert_exporter": "python",
   "pygments_lexer": "ipython3",
   "version": "3.7.9"
  }
 },
 "nbformat": 4,
 "nbformat_minor": 4
}
